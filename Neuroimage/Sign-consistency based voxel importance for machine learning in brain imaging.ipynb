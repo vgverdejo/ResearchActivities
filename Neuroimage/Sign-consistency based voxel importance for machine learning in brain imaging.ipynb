{
 "cells": [
  {
   "cell_type": "markdown",
   "metadata": {},
   "source": [
    "This notebook implements the algortihm proposed in:\n",
    "\n",
    "Vanessa Gómez-Verdejo, Emilio Parrado-Hernández, Jussi Tohka and for the Alzheimer's Disease Neuroimaging Initiative, \"Sign-consistency based voxel importance for machine learning in brain imaging\". Submitted to NeuroImage. Feb. 2017."
   ]
  },
  {
   "cell_type": "markdown",
   "metadata": {},
   "source": [
    "** Create simulated data**"
   ]
  },
  {
   "cell_type": "code",
   "execution_count": 1,
   "metadata": {
    "collapsed": true
   },
   "outputs": [],
   "source": [
    "import numpy as np\n",
    "import matplotlib.pyplot as plt\n",
    "%matplotlib inline  "
   ]
  },
  {
   "cell_type": "code",
   "execution_count": 2,
   "metadata": {
    "collapsed": false
   },
   "outputs": [],
   "source": [
    "def generate_data(N, Drel, Dirrel, sigma = 1):\n",
    "    # Case 1: all data condense to 2 points\n",
    "    # Case 2: completely separable, all variables are relevant\n",
    "    # Case 3: completely separable, some irrelevant variables start to take role\n",
    "    # Case 4: the irrelevant variables have same intensity as the \n",
    "    # Create labels\n",
    "    Y = np.concatenate((np.ones((N/2,)),-1*np.ones((N/2,))), axis=0)\n",
    "\n",
    "    # Relevant features\n",
    "    Xrel = Y[:, np.newaxis] * np.ones((1,Drel)) + np.random.normal(0, sigma, (N, Drel))\n",
    "\n",
    "    # Irrelevant features\n",
    "    Xirrel = np.random.normal(0, sigma, (N, Dirrel))\n",
    "    X = np.concatenate((Xrel,Xirrel), axis=1).T\n",
    "    GT = np.concatenate((np.ones((Drel,)),np.zeros((Dirrel,))), axis=0)\n",
    "\n",
    "    return X, Y, GT"
   ]
  },
  {
   "cell_type": "code",
   "execution_count": 3,
   "metadata": {
    "collapsed": false
   },
   "outputs": [],
   "source": [
    "# Number of data\n",
    "Ndata = 200\n",
    "Drel = 1000\n",
    "Dirrel = 10000\n",
    "\n",
    "X, Y, GT = generate_data(Ndata, Drel, Dirrel)"
   ]
  },
  {
   "cell_type": "markdown",
   "metadata": {},
   "source": [
    "# Voxel importance with ensembles of linear SVMs"
   ]
  },
  {
   "cell_type": "markdown",
   "metadata": {},
   "source": [
    "** Train an ensemble of bagged SVMs**"
   ]
  },
  {
   "cell_type": "code",
   "execution_count": 4,
   "metadata": {
    "collapsed": true
   },
   "outputs": [],
   "source": [
    "from sklearn.svm import SVC\n",
    "\n",
    "num_bagging_iter = 10000\n",
    "perc = 0.5\n",
    "conformal_learning = False\n",
    "\n",
    "def compute_bagging_clf(X, Y): \n",
    "    \n",
    "    w_sign_tot = np.zeros((X.shape[0],))\n",
    "    \n",
    "    ntr = X.shape[1]\n",
    "    pos_tr = np.arange(ntr)\n",
    "    p_1 = np.where(Y == 1)[0]\n",
    "    p_0 = np.where(Y == -1)[0]\n",
    "    n_1 = p_1.shape[0]\n",
    "    n_0 = p_0.shape[0]\n",
    "       \n",
    "    # Define the classifier to be used for the voxel selection\n",
    "    K = np.dot(X.T,X)\n",
    "    clf = SVC(C=100, kernel='precomputed')\n",
    " \n",
    "    for i in range(num_bagging_iter):\n",
    "        # Select training samples (at random) and balancing by clases\n",
    "        np.random.seed(i)\n",
    "        # In case of unbalanced problems, we balance the subsampling\n",
    "        samples_sel_1 = np.random.permutation(p_1)[:int(np.round(0.5*perc*ntr))]\n",
    "        samples_sel_0 = np.random.permutation(p_0)[:int(np.round(0.5*perc*ntr))]\n",
    "        samples_sel = np.hstack((samples_sel_0, samples_sel_1))\n",
    "        # Create a vector with the training positions\n",
    "        pos_tr_sel = pos_tr[samples_sel]\n",
    "       \n",
    "        Y_sel =Y[pos_tr_sel]\n",
    "        \n",
    "        # Train the classifier\n",
    "        clf.fit(K[pos_tr_sel[:, np.newaxis],pos_tr_sel], Y_sel) \n",
    "        w = np.dot(X[:,pos_tr_sel[clf.support_]],clf.dual_coef_.ravel())\n",
    "       \n",
    "        # Create a vector counting the number of positive weigths (indirectly we are also counting the negatives)\n",
    "        w_sign = np.zeros(w.shape)\n",
    "        w_sign [w>0] = 1\n",
    "        # Add it to the total sum of positive weigths\n",
    "        w_sign_tot = w_sign_tot + w_sign\n",
    "    return w_sign_tot"
   ]
  },
  {
   "cell_type": "code",
   "execution_count": 5,
   "metadata": {
    "collapsed": false
   },
   "outputs": [],
   "source": [
    "nPositives = compute_bagging_clf(X, Y)"
   ]
  },
  {
   "cell_type": "markdown",
   "metadata": {},
   "source": [
    "## Voxel selection: hypothesis test"
   ]
  },
  {
   "cell_type": "code",
   "execution_count": 6,
   "metadata": {
    "collapsed": false
   },
   "outputs": [],
   "source": [
    "N = num_bagging_iter\n",
    "# Estimate the probability of being positive\n",
    "hatp = nPositives/N"
   ]
  },
  {
   "cell_type": "code",
   "execution_count": 7,
   "metadata": {
    "collapsed": false
   },
   "outputs": [
    {
     "data": {
      "image/png": "[encoded data removed]",
      "text/plain": [
       "<matplotlib.figure.Figure at 0x7fe7022bee90>"
      ]
     },
     "metadata": {},
     "output_type": "display_data"
    },
    {
     "name": "stdout",
     "output_type": "stream",
     "text": [
      "Distribution irrelevant voxels (upper) vs. relevant ones (lower)\n"
     ]
    }
   ],
   "source": [
    "# As it is a sythetic problem, we know the ground truth, let's plot the distributions over each sign\n",
    "pos_GT1 = np.where(GT==1)[0]\n",
    "pos_GT0 = np.where(GT==0)[0]\n",
    "\n",
    "plt.figure(1)\n",
    "plt.subplot(2,1,1)\n",
    "plt.hist(hatp[pos_GT0],100)\n",
    "plt.subplot(2,1,2)\n",
    "plt.hist(hatp[pos_GT1],100)\n",
    "plt.show()\n",
    "print 'Distribution irrelevant voxels (upper) vs. relevant ones (lower)'"
   ]
  },
  {
   "cell_type": "code",
   "execution_count": 8,
   "metadata": {
    "collapsed": false
   },
   "outputs": [],
   "source": [
    "from scipy.stats import norm\n",
    "\n",
    "# Statistical test\n",
    "def computeZTest(hatp, N, p0=0.5, gamma =0.5):\n",
    "    s = ((1-gamma)/gamma)*hatp*(1-hatp)\n",
    "    # To avoid divide by zero  \n",
    "    s[np.where(s==0)]=np.finfo(float).eps\n",
    "    z = np.divide(hatp-p0, np.sqrt(s))\n",
    "    p = norm.cdf(z)\n",
    "    return z, p"
   ]
  },
  {
   "cell_type": "code",
   "execution_count": 9,
   "metadata": {
    "collapsed": false
   },
   "outputs": [],
   "source": [
    "z, p = computeZTest(hatp, N)"
   ]
  },
  {
   "cell_type": "code",
   "execution_count": 10,
   "metadata": {
    "collapsed": false
   },
   "outputs": [
    {
     "name": "stdout",
     "output_type": "stream",
     "text": [
      "Irrelevant voxels\n"
     ]
    },
    {
     "data": {
      "image/png": "[encoded data removed]",
      "text/plain": [
       "<matplotlib.figure.Figure at 0x7fe6fc233cd0>"
      ]
     },
     "metadata": {},
     "output_type": "display_data"
    }
   ],
   "source": [
    "plt.figure(2)\n",
    "plt.subplot(2,1,1)\n",
    "plt.hist(hatp[pos_GT0],100)\n",
    "plt.subplot(2,1,2)\n",
    "plt.hist(p[pos_GT0],100)\n",
    "\n",
    "print 'Irrelevant voxels'"
   ]
  },
  {
   "cell_type": "code",
   "execution_count": 11,
   "metadata": {
    "collapsed": false
   },
   "outputs": [
    {
     "name": "stdout",
     "output_type": "stream",
     "text": [
      "Relevant voxels\n"
     ]
    },
    {
     "data": {
      "image/png": "[encoded data removed]",
      "text/plain": [
       "<matplotlib.figure.Figure at 0x7fe6d4d80750>"
      ]
     },
     "metadata": {},
     "output_type": "display_data"
    }
   ],
   "source": [
    "plt.figure(3)\n",
    "plt.subplot(2,1,1)\n",
    "plt.hist(hatp[pos_GT1],100)\n",
    "plt.subplot(2,1,2)\n",
    "plt.hist(p[pos_GT1],100)\n",
    "\n",
    "print 'Relevant voxels'\n"
   ]
  },
  {
   "cell_type": "markdown",
   "metadata": {},
   "source": [
    "**Voxel selection**"
   ]
  },
  {
   "cell_type": "code",
   "execution_count": 12,
   "metadata": {
    "collapsed": false
   },
   "outputs": [
    {
     "name": "stdout",
     "output_type": "stream",
     "text": [
      "Irrelevant voxels selected:\n",
      "1077\n",
      "Total Irrelevant voxels:10000\n",
      "Relevant voxels selected:\n",
      "1000\n",
      "Total Relevant voxels:1000\n"
     ]
    }
   ],
   "source": [
    "# Set the confidence level\n",
    "alp = 0.05\n",
    "\n",
    "# It's a two tailed distribution, we select the voxels of the lower and upper tails\n",
    "print 'Irrelevant voxels selected:'\n",
    "print np.where(np.any([p[pos_GT0]<0.5*alp, p[pos_GT0]>(1-0.5*alp)], axis=0))[0].shape[0]\n",
    "print 'Total Irrelevant voxels:' + str(pos_GT0.shape[0]) \n",
    "print 'Relevant voxels selected:'\n",
    "print np.where(np.any([p[pos_GT1]<0.5*alp, p[pos_GT1]>(1-0.5*alp)], axis=0))[0].shape[0]\n",
    "print 'Total Relevant voxels:' + str(pos_GT1.shape[0]) "
   ]
  },
  {
   "cell_type": "markdown",
   "metadata": {
    "collapsed": true
   },
   "source": [
    "# Transductive refinement of the voxel importance"
   ]
  },
  {
   "cell_type": "markdown",
   "metadata": {},
   "source": [
    "**Create information for conformal analysis**"
   ]
  },
  {
   "cell_type": "code",
   "execution_count": 13,
   "metadata": {
    "collapsed": false
   },
   "outputs": [],
   "source": [
    "# Training data\n",
    "Ndata = 200\n",
    "Drel = 1000\n",
    "Dirrel = 10000\n",
    "\n",
    "X, Y, GT = generate_data(Ndata, Drel, Dirrel)\n",
    "\n",
    "# Create test data\n",
    "Ndata = 100\n",
    "X_test, Y_test, GT_test = generate_data(Ndata, Drel, Dirrel)\n",
    "\n",
    "pos_GT1 = np.where(GT==1)[0]\n",
    "pos_GT0 = np.where(GT==0)[0]"
   ]
  },
  {
   "cell_type": "code",
   "execution_count": 14,
   "metadata": {
    "collapsed": false
   },
   "outputs": [],
   "source": [
    "import random\n",
    "\n",
    "conformal_iterations = 10\n",
    "n_data_test = X_test.shape[1]\n",
    "# The number of conformal samples is set to 1% of the training data\n",
    "n_data_conf = int(0.01* X.shape[1])\n",
    "data = []\n",
    "labels = []\n",
    "for i in range(conformal_iterations):\n",
    "    temp = []\n",
    "    for j in range(n_data_conf):\n",
    "        temp.append(random.choice([-1,1]))\n",
    "    labels.append(temp)\n",
    "    data.append(random.sample(range(n_data_test), n_data_conf))\n",
    "conformal={}\n",
    "conformal['data'] = np.array(data)\n",
    "conformal['labels'] = np.array(labels)"
   ]
  },
  {
   "cell_type": "markdown",
   "metadata": {},
   "source": [
    "** Train an ensemble of bagged SVMs with conformal analysis**"
   ]
  },
  {
   "cell_type": "code",
   "execution_count": 15,
   "metadata": {
    "collapsed": true
   },
   "outputs": [],
   "source": [
    "from sklearn.svm import SVC\n",
    "\n",
    "num_bagging_iter = 10000\n",
    "perc = 0.5\n",
    "\n",
    "def compute_bagging_clf_conf(X, Y, X_test, n_conf): \n",
    "    \n",
    "    w_sign_tot = np.zeros((X.shape[0],))\n",
    "    \n",
    "    ntr = X.shape[1]\n",
    "    pos_tr = np.arange(ntr)\n",
    "    p_1 = np.where(Y == 1)[0]\n",
    "    p_0 = np.where(Y == -1)[0]\n",
    "    n_1 = p_1.shape[0]\n",
    "    n_0 = p_0.shape[0]\n",
    "       \n",
    "    Xall = np.hstack((X, X_test))\n",
    "    K = np.dot(Xall.T,Xall)\n",
    "    clf = SVC(C=100, kernel='precomputed')\n",
    "        \n",
    "    for i in range(num_bagging_iter):\n",
    "        # Select training samples (at random) and balancing by clases\n",
    "        np.random.seed(i)\n",
    "        # In case of unbalanced problems, we balance the subsampling\n",
    "        samples_sel_1 = np.random.permutation(p_1)[:int(np.round(0.5*perc*ntr))]\n",
    "        samples_sel_0 = np.random.permutation(p_0)[:int(np.round(0.5*perc*ntr))]\n",
    "        samples_sel = np.hstack((samples_sel_0, samples_sel_1))\n",
    "        # Create a vector with the training positions\n",
    "        pos_tr_sel = pos_tr[samples_sel]\n",
    "       \n",
    "        # For the conformal learning\n",
    "        Y_sel = np.hstack((Y[pos_tr_sel], conformal['labels'][n_conf]))\n",
    "        pos_tr_sel = np.hstack((pos_tr_sel, (ntr-1)+ conformal['data'][n_conf])).astype('int')\n",
    "        \n",
    "        # Train the classifier\n",
    "        clf.fit(K[pos_tr_sel[:, np.newaxis],pos_tr_sel], Y_sel) \n",
    "        w = np.dot(Xall[:,pos_tr_sel[clf.support_]],clf.dual_coef_.ravel())\n",
    "       \n",
    "        # Create a vector counting the number of positive weigths (indirectly we are also counting the negatives)\n",
    "        w_sign = np.zeros(w.shape)\n",
    "        w_sign [w>0] = 1\n",
    "        # Add it to the total sum of positive weigths\n",
    "        w_sign_tot = w_sign_tot + w_sign\n",
    "    return w_sign_tot"
   ]
  },
  {
   "cell_type": "code",
   "execution_count": 16,
   "metadata": {
    "collapsed": false
   },
   "outputs": [],
   "source": [
    "all_w_count = np.zeros((conformal_iterations, X.shape[0]))\n",
    "for n_conf in range(conformal_iterations):\n",
    "    all_w_count[n_conf,:] = compute_bagging_clf_conf(X, Y, X_test, n_conf)"
   ]
  },
  {
   "cell_type": "markdown",
   "metadata": {},
   "source": [
    "**Voxel selection applying the conformal with the intersection of the selected subsets**"
   ]
  },
  {
   "cell_type": "code",
   "execution_count": 17,
   "metadata": {
    "collapsed": false
   },
   "outputs": [],
   "source": [
    "import copy\n",
    "\n",
    "nPositives =all_w_count\n",
    "\n",
    "N = num_bagging_iter\n",
    "hatp = nPositives/N\n",
    "z, p = computeZTest(hatp, N)\n",
    "\n",
    "p1= np.where(p>0.5)\n",
    "paux = copy.copy(p)\n",
    "paux[p1] = 1-paux[p1]\n",
    "# If p<0.5, we get the maximum; and if p>0.5, we get the minimum\n",
    "pos = np.argmax(paux, axis=0)\n",
    "p = np.array([pp[pos[i]] for i, pp in enumerate(p.T)])"
   ]
  },
  {
   "cell_type": "code",
   "execution_count": 18,
   "metadata": {
    "collapsed": false
   },
   "outputs": [
    {
     "name": "stdout",
     "output_type": "stream",
     "text": [
      "Irrelevant voxels selected:\n",
      "29\n"
     ]
    },
    {
     "data": {
      "image/png": "[encoded data removed]",
      "text/plain": [
       "<matplotlib.figure.Figure at 0x7fe6d4c2f4d0>"
      ]
     },
     "metadata": {},
     "output_type": "display_data"
    }
   ],
   "source": [
    "plt.figure(4)\n",
    "plt.hist(p[pos_GT0],100)\n",
    "\n",
    "alp = 0.05\n",
    "# It's a two tailed distribution, we select the voxels of the lower and upper tails\n",
    "print 'Irrelevant voxels selected:'\n",
    "print  np.where(np.any([p[pos_GT0]<0.5*alp, p[pos_GT0]>(1-0.5*alp)], axis=0))[0].shape[0]"
   ]
  },
  {
   "cell_type": "code",
   "execution_count": 19,
   "metadata": {
    "collapsed": false
   },
   "outputs": [
    {
     "name": "stdout",
     "output_type": "stream",
     "text": [
      "Relevant voxels selected:\n",
      "995\n"
     ]
    },
    {
     "data": {
      "image/png": "[encoded data removed]",
      "text/plain": [
       "<matplotlib.figure.Figure at 0x7fe6d4923610>"
      ]
     },
     "metadata": {},
     "output_type": "display_data"
    }
   ],
   "source": [
    "plt.figure(5)\n",
    "plt.hist(p[pos_GT1],100)\n",
    "\n",
    "alp = 0.05\n",
    "# It's a two tailed distribution, we select the voxels of the lower and upper tails\n",
    "print 'Relevant voxels selected:'\n",
    "print np.where(np.any([p[pos_GT1]<0.5*alp, p[pos_GT1]>(1-0.5*alp)], axis=0))[0].shape[0]"
   ]
  }
 ],
 "metadata": {
  "kernelspec": {
   "display_name": "Python 2",
   "language": "python",
   "name": "python2"
  },
  "language_info": {
   "codemirror_mode": {
    "name": "ipython",
    "version": 2
   },
   "file_extension": ".py",
   "mimetype": "text/x-python",
   "name": "python",
   "nbconvert_exporter": "python",
   "pygments_lexer": "ipython2",
   "version": "2.7.12"
  }
 },
 "nbformat": 4,
 "nbformat_minor": 0
}
